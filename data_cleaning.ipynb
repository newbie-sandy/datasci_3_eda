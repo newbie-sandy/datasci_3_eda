{
  "nbformat": 4,
  "nbformat_minor": 0,
  "metadata": {
    "colab": {
      "provenance": [],
      "authorship_tag": "ABX9TyN+jrlm0y1ovxBY55jRo3aF",
      "include_colab_link": true
    },
    "kernelspec": {
      "name": "python3",
      "display_name": "Python 3"
    },
    "language_info": {
      "name": "python"
    }
  },
  "cells": [
    {
      "cell_type": "markdown",
      "metadata": {
        "id": "view-in-github",
        "colab_type": "text"
      },
      "source": [
        "<a href=\"https://colab.research.google.com/github/newbie-sandy/datasci_3_eda/blob/main/data_cleaning.ipynb\" target=\"_parent\"><img src=\"https://colab.research.google.com/assets/colab-badge.svg\" alt=\"Open In Colab\"/></a>"
      ]
    },
    {
      "cell_type": "code",
      "execution_count": null,
      "metadata": {
        "id": "KkczVx5w4Nw2"
      },
      "outputs": [],
      "source": [
        "import pandas as pd\n",
        "df = pd.read_csv('')\n",
        "df.sample(10)\n",
        "df.shape"
      ]
    },
    {
      "cell_type": "markdown",
      "source": [
        "## Clean column"
      ],
      "metadata": {
        "id": "gvQ74K7y5T-H"
      }
    },
    {
      "cell_type": "code",
      "source": [
        "df.columns"
      ],
      "metadata": {
        "id": "EE9BSL7h5bnK"
      },
      "execution_count": null,
      "outputs": []
    },
    {
      "cell_type": "markdown",
      "source": [
        "## Understand what each row represents\n"
      ],
      "metadata": {
        "id": "lO7uEplt5iTi"
      }
    },
    {
      "cell_type": "code",
      "source": [
        "df['column name'].nunique() # check duplication\n",
        "#use github copilot for automatic generation code and text"
      ],
      "metadata": {
        "id": "fBMmLVTO5m5O"
      },
      "execution_count": null,
      "outputs": []
    },
    {
      "cell_type": "markdown",
      "source": [
        "## NaN"
      ],
      "metadata": {
        "id": "HP05elwi6bGW"
      }
    },
    {
      "cell_type": "code",
      "source": [
        "df.isnull()\n",
        "df.isnull().sum() #missing value for each column\n",
        "percentmissing = df.dataframe(df.isnull().sum()).reset_index()\n",
        "percentmissing.rename(columns={'index=': 'variable',0:'count_missing'},inplace =True)\n",
        "percentmissing['missing_percent'] = (percentmissing['count_missing']/df.shape[0])*100"
      ],
      "metadata": {
        "id": "jqNO1uLH6dMR"
      },
      "execution_count": null,
      "outputs": []
    },
    {
      "cell_type": "markdown",
      "source": [
        "## Outlier\n"
      ],
      "metadata": {
        "id": "JzYWMsRC84Z1"
      }
    },
    {
      "cell_type": "code",
      "source": [
        "df.describe()\n",
        "df['column name'].value_counts()"
      ],
      "metadata": {
        "id": "2j5ERjgS9ADp"
      },
      "execution_count": null,
      "outputs": []
    },
    {
      "cell_type": "markdown",
      "source": [
        "## Variables conversion 改列的数据格式\n",
        "比如：日期 int-str"
      ],
      "metadata": {
        "id": "rYSZVAul9pEC"
      }
    },
    {
      "cell_type": "code",
      "source": [
        "df['c1'] = df['c1'].astype(float).round(0).astype(str) # if missing value exist, error report\n",
        "\n",
        "df.sample(10) #抽样检测"
      ],
      "metadata": {
        "id": "eGZgSSQs9rxM"
      },
      "execution_count": null,
      "outputs": []
    },
    {
      "cell_type": "markdown",
      "source": [
        "## 存储清理过的数据库"
      ],
      "metadata": {
        "id": "cH14UFYLAK7T"
      }
    },
    {
      "cell_type": "code",
      "source": [
        "df.to_csv('')"
      ],
      "metadata": {
        "id": "1OhTa2b-AFbW"
      },
      "execution_count": null,
      "outputs": []
    }
  ]
}